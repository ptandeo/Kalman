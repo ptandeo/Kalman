{
 "cells": [
  {
   "cell_type": "code",
   "execution_count": null,
   "metadata": {
    "nbpresent": {
     "id": "f975dd20-65cf-43f8-8a6e-96f2acbad4e4"
    }
   },
   "outputs": [],
   "source": [
    "%load_ext autoreload\n",
    "%autoreload 2\n",
    "\n",
    "from codes.Kalman import *\n",
    "from scipy.integrate import odeint\n",
    "from sklearn.linear_model import LinearRegression\n",
    "from sklearn import preprocessing\n",
    "import random\n",
    "import pandas as pd\n",
    "\n",
    "%pylab inline\n",
    "%matplotlib inline\n",
    "pylab.rcParams['figure.figsize'] = (16, 9)"
   ]
  },
  {
   "cell_type": "markdown",
   "metadata": {},
   "source": [
    "### Important parameters"
   ]
  },
  {
   "cell_type": "code",
   "execution_count": null,
   "metadata": {},
   "outputs": [],
   "source": [
    "# integration time step\n",
    "dt = 1/12\n",
    "\n",
    "# variance of the random white noise of z\n",
    "variance_unobs_comp = 1\n",
    "\n",
    "# variance of the observation error used in Kalman\n",
    "variance_obs_comp = 0.00001 # 0.1**2\n",
    "\n",
    "# number of SEM iterations\n",
    "nb_iter_SEM = 30"
   ]
  },
  {
   "cell_type": "markdown",
   "metadata": {},
   "source": [
    "### Import data"
   ]
  },
  {
   "cell_type": "code",
   "execution_count": null,
   "metadata": {
    "nbpresent": {
     "id": "81f56606-9081-47fd-8968-13d85c93063c"
    },
    "scrolled": true
   },
   "outputs": [],
   "source": [
    "# read data\n",
    "data = pd.read_csv('/home/administrateur/Dropbox/Documents/Data/climate_indices_FOCI.csv')\n",
    "\n",
    "# print data\n",
    "print(data)\n",
    "\n",
    "# correlation matrix\n",
    "matshow(data.corr(), cmap='bwr', clim=[-1, 1])\n",
    "colorbar()\n",
    "\n",
    "# normalize observations\n",
    "scaler = preprocessing.StandardScaler().fit(data)\n",
    "y = scaler.transform(data)\n",
    "\n",
    "#y = y[:,[0,2,3,5,9,10,11,12,13,15,16,18,20,23,26,27,28]]\n",
    "y = y[:,[2, 7]]\n",
    "\n",
    "print(shape(y))"
   ]
  },
  {
   "cell_type": "code",
   "execution_count": null,
   "metadata": {},
   "outputs": [],
   "source": [
    "random.seed(0)\n",
    "\n",
    "'''\n",
    "# state\n",
    "x = y\n",
    "\n",
    "# shapes\n",
    "n = shape(x)[1]\n",
    "p = shape(y)[1]\n",
    "\n",
    "# kalman parameters\n",
    "H = eye(n)\n",
    "R = variance_obs_comp*eye(p)\n",
    "\n",
    "# stochastic EM\n",
    "x_s_V0, P_s_V0, M_V0, loglik_V0, x, x_f_V0, Q_V0 = Kalman_SEM(x, y, H, R, nb_iter_SEM)\n",
    "'''\n",
    "\n",
    "# initial random components\n",
    "z_V1 = random.normal(loc=zeros(shape(y)[0]), scale=variance_unobs_comp, size=shape(y)[0])\n",
    "z_V2 = random.normal(loc=zeros(shape(y)[0]), scale=variance_unobs_comp, size=shape(y)[0])\n",
    "z_V3 = random.normal(loc=zeros(shape(y)[0]), scale=variance_unobs_comp, size=shape(y)[0])\n",
    "\n",
    "# state\n",
    "x = c_[y, z_V1]\n",
    "\n",
    "# shapes\n",
    "n = shape(x)[1]\n",
    "p = shape(y)[1]\n",
    "\n",
    "# kalman parameters\n",
    "H = delete(eye(n), 2, axis=0)\n",
    "R = variance_obs_comp*eye(p)\n",
    "\n",
    "# stochastic EM\n",
    "x_s_V1, P_s_V1, M_V1, loglik_V1, x, x_f_V1, Q_V1 = Kalman_SEM(x, y, H, R, nb_iter_SEM)\n",
    "\n",
    "# state\n",
    "x = c_[x, z_V2]\n",
    "\n",
    "# shapes\n",
    "n = shape(x)[1]\n",
    "p = shape(y)[1]\n",
    "\n",
    "# kalman parameters\n",
    "H = delete(eye(n), [2,3], axis=0)\n",
    "R = variance_obs_comp*eye(p)\n",
    "\n",
    "# stochastic EM\n",
    "x_s_V2, P_s_V2, M_V2, loglik_V2, x, x_f_V2, Q_V2 = Kalman_SEM(x, y, H, R, nb_iter_SEM)\n",
    "\n",
    "# state\n",
    "x = c_[x, z_V3]\n",
    "\n",
    "# shapes\n",
    "n = shape(x)[1]\n",
    "p = shape(y)[1]\n",
    "\n",
    "# kalman parameters\n",
    "H = delete(eye(n), [2,3,4], axis=0)\n",
    "R = variance_obs_comp*eye(p)\n",
    "\n",
    "# stochastic EM\n",
    "x_s_V3, P_s_V3, M_V3, loglik_V3, x, x_f_V3, Q_V3 = Kalman_SEM(x, y, H, R, nb_iter_SEM)"
   ]
  },
  {
   "cell_type": "code",
   "execution_count": null,
   "metadata": {},
   "outputs": [],
   "source": [
    "plot(loglik_V0[1:])\n",
    "plot(loglik_V1[1:])\n",
    "plot(loglik_V2[1:])\n",
    "plot(loglik_V3[1:])\n",
    "legend(['0', '1', '2', '3'])"
   ]
  },
  {
   "cell_type": "code",
   "execution_count": null,
   "metadata": {},
   "outputs": [],
   "source": [
    "print(shape(x_for_V0))\n",
    "print(shape(x_for_V2))"
   ]
  },
  {
   "cell_type": "code",
   "execution_count": null,
   "metadata": {},
   "outputs": [],
   "source": [
    "x_t = y.copy()\n",
    "\n",
    "# max horizon\n",
    "horizon = 12\n",
    "\n",
    "# initialization\n",
    "x_true   = zeros((len(x_t)-horizon, horizon, shape(x_t)[1]))\n",
    "x_for_V0 = zeros((len(x_t)-horizon, horizon, shape(x_s_V0)[1]))\n",
    "x_for_V1 = zeros((len(x_t)-horizon, horizon, shape(x_s_V1)[1]))\n",
    "x_for_V2 = zeros((len(x_t)-horizon, horizon, shape(x_s_V2)[1]))\n",
    "x_for_V3 = zeros((len(x_t)-horizon, horizon, shape(x_s_V3)[1]))\n",
    "P_for_V0 = zeros((len(x_t)-horizon, horizon, shape(Q_V0)[0], shape(Q_V0)[1]))\n",
    "P_for_V1 = zeros((len(x_t)-horizon, horizon, shape(Q_V1)[0], shape(Q_V1)[1]))\n",
    "P_for_V2 = zeros((len(x_t)-horizon, horizon, shape(Q_V2)[0], shape(Q_V2)[1]))\n",
    "P_for_V3 = zeros((len(x_t)-horizon, horizon, shape(Q_V3)[0], shape(Q_V3)[1]))\n",
    "\n",
    "# loop on time steps\n",
    "for k in range(len(x_t)-horizon):\n",
    "    x_true[k,0,:] = x_t[k,:]\n",
    "    #x_for_V0[k,0,:] = x_s_V0[k,:]\n",
    "    #x_for_V1[k,0,:] = x_s_V1[k,:]\n",
    "    #x_for_V2[k,0,:] = x_s_V2[k,:]\n",
    "    #x_for_V3[k,0,:] = x_s_V3[k,:]\n",
    "    x_for_V0[k,0,:] = x_t[k,:]\n",
    "    x_for_V1[k,0,:-1] = x_t[k,:]\n",
    "    x_for_V2[k,0,:-2] = x_t[k,:]\n",
    "    x_for_V3[k,0,:-3] = x_t[k,:]\n",
    "    P_for_V0[k,0,:,:] = P_s_V0[k,:,:]\n",
    "    P_for_V1[k,0,:,:] = P_s_V1[k,:,:]\n",
    "    P_for_V2[k,0,:,:] = P_s_V2[k,:,:]\n",
    "    P_for_V3[k,0,:,:] = P_s_V3[k,:,:]\n",
    "    # loop on horizons\n",
    "    for h in range(horizon-1):\n",
    "        x_true[k,h+1,:] = x_t[k+h+1,:]\n",
    "        x_for_V0[k,h+1,:] = M_V0 @ x_for_V0[k,h,:]\n",
    "        x_for_V1[k,h+1,:] = M_V1 @ x_for_V1[k,h,:]\n",
    "        x_for_V2[k,h+1,:] = M_V2 @ x_for_V2[k,h,:]\n",
    "        x_for_V3[k,h+1,:] = M_V3 @ x_for_V3[k,h,:]\n",
    "        P_for_V0[k,h+1,:,:] = M_V0 @ P_for_V0[k,h,:,:] @ M_V0.T + Q_V0\n",
    "        P_for_V1[k,h+1,:,:] = M_V1 @ P_for_V1[k,h,:,:] @ M_V1.T + Q_V1\n",
    "        P_for_V2[k,h+1,:,:] = M_V2 @ P_for_V2[k,h,:,:] @ M_V2.T + Q_V2\n",
    "        P_for_V3[k,h+1,:,:] = M_V3 @ P_for_V3[k,h,:,:] @ M_V3.T + Q_V3"
   ]
  },
  {
   "cell_type": "code",
   "execution_count": null,
   "metadata": {},
   "outputs": [],
   "source": [
    "init = 5000\n",
    "var = 0\n",
    "\n",
    "# time index\n",
    "t = range(len(x))\n",
    "\n",
    "# plot predictions\n",
    "plot(t[0:horizon], x_true[init,:,var], 'k--')\n",
    "plot(t[0:horizon], x_for_V0[init,:,var], 'C1')\n",
    "plot(t[0:horizon], x_for_V1[init,:,var], 'C2')\n",
    "#plot(t[0:horizon], x_for_V2[init,:,var], 'C3')\n",
    "legend(['Truth', 'V0', 'V1', 'V2'])\n",
    "fill_between(t[0:horizon], x_for_V0[init,:,var] - 0.64 * sqrt(P_for_V0[init,:,var,var]), x_for_V0[init,:,var] + 0.64 * sqrt(P_for_V0[init,:,var,var]), alpha=0.2, color='C1')\n",
    "fill_between(t[0:horizon], x_for_V1[init,:,var] - 0.64 * sqrt(P_for_V1[init,:,var,var]), x_for_V1[init,:,var] + 0.64 * sqrt(P_for_V1[init,:,var,var]), alpha=0.2, color='C2')\n",
    "#fill_between(t[0:horizon], x_for_V2[init,:,var] - 0.64 * sqrt(P_for_V2[init,:,var,var]), x_for_V2[init,:,var] + 0.64 * sqrt(P_for_V2[init,:,var,var]), alpha=0.2, color='C3')"
   ]
  },
  {
   "cell_type": "markdown",
   "metadata": {},
   "source": [
    "### V1: $x = [x_2, x_3, z_1]$"
   ]
  },
  {
   "cell_type": "code",
   "execution_count": null,
   "metadata": {},
   "outputs": [],
   "source": [
    "# state\n",
    "z = random.normal(loc=x_t[:,i_unobs_comp]*0, scale=variance_unobs_comp, size=shape(y)[0])\n",
    "x = c_[y[:,0], y[:,1], z]\n",
    "\n",
    "# shapes\n",
    "n = shape(x)[1]\n",
    "p = shape(y)[1]"
   ]
  },
  {
   "cell_type": "code",
   "execution_count": null,
   "metadata": {},
   "outputs": [],
   "source": [
    "# plot\n",
    "figure()\n",
    "i_unobs_comp=0\n",
    "subplot(2,3,1)\n",
    "plot(x[:,0], x[:,2], 'C2')\n",
    "#plot(x_t[:,1], x_t[:,0], 'k--')\n",
    "title('$(z_1, x_2)$ plane', size=30)\n",
    "xlabel('$x_2$', size=20)\n",
    "ylabel('$z_1$', size=20)\n",
    "xlim([-24,22])\n",
    "ylim([-27,35])\n",
    "subplot(2,3,2)\n",
    "plot(x[:,1], x[:,2], 'C2')\n",
    "#plot(x_t[:,2], x_t[:,0], 'k--')\n",
    "title('$(z_1, x_3)$ plane', size=30)\n",
    "xlabel('$x_3$', size=20)\n",
    "#ylabel('$z_1$', size=20)\n",
    "xlim([8,43])\n",
    "ylim([-27,35])\n",
    "subplot(2,3,3)\n",
    "plot(loglik_V0[1:]*0, 'C2')\n",
    "#plot(loglik_V0[1:], '--k')\n",
    "title('Log-likelihood', size=30)\n",
    "xlabel('Iterations', size=20)\n",
    "xlim([0,30])\n",
    "ylim([12000,30000])\n",
    "subplot(2,3,(4,6))\n",
    "# true components\n",
    "tab_labels = ['$x_1$', '$x_2$', '$x_3$', '$z_1$']\n",
    "plot(t, x_t[:,i_unobs_comp], '--k')\n",
    "plot(t, x_t[:,1], color='C0')\n",
    "plot(t, x_t[:,2], color='C1')\n",
    "plot(t, x[:,2], color='C2')\n",
    "legend(tab_labels, loc=1, fontsize='xx-large')\n",
    "ylim([-30,45])\n",
    "xlim([t[0],t[-1]])\n",
    "#fill_between(t, x_s[:,2]-1.96*sqrt(P_s[:,2,2]), x_s[:,2]+1.96*sqrt(P_s[:,2,2]), facecolor='C2', alpha=0.25)\n",
    "xlabel('Time', size=20)\n",
    "ylabel('Lorenz components', size=20)\n",
    "ylim([-30,45])\n",
    "xlim([t[0],t[-1]])\n",
    "savefig('/home/administrateur/Dropbox/Applications/Overleaf/presentation_buenos_aires_2023_02_10/L63_000.png', bbox_inches='tight', dpi=50)"
   ]
  },
  {
   "cell_type": "code",
   "execution_count": null,
   "metadata": {},
   "outputs": [],
   "source": [
    "# kalman parameters\n",
    "H = delete(eye(n), 2, axis=0)\n",
    "R = variance_obs_comp*eye(p)\n",
    "\n",
    "# stochastic EM\n",
    "x_s_V1, P_s_V1, M_V1, loglik_V1, x, x_f_V1 = Kalman_SEM(x, y, H, R, nb_iter_SEM, x_t, t)"
   ]
  },
  {
   "cell_type": "code",
   "execution_count": null,
   "metadata": {},
   "outputs": [],
   "source": [
    "#$z_1$ & $x_2$ & $x_3$ & $x_2 x_3$ & $x_2^2$ & $x_3^2$ & $\\sqrt{x_2}$ & $\\sqrt{x_3}$ & \\dots & $\\dot{x}_2$ & $\\dot{x}_3$\\\\ \n",
    "#print(x_s_V1[0,2], x_s_V1[0,0], x_s_V1[0,1], x_s_V1[0,0]*x_s_V1[0,1], x_s_V1[0,0]**2, x_s_V1[0,1]**2, sqrt(x_s_V1[0,0]), sqrt(x_s_V1[0,1]), diff(x_s_V1[:,0])[0], diff(x_s_V1[:,1])[0])"
   ]
  },
  {
   "cell_type": "code",
   "execution_count": null,
   "metadata": {},
   "outputs": [],
   "source": [
    "# regression coefficients\n",
    "regress_coef = linalg.lstsq(diff(x_s_V1[:,0:2], axis=0), x_s_V1[0:-1,2], rcond=None)[0]\n",
    "a2, a3 = regress_coef*dt\n",
    "\n",
    "plot(t, x_t[:,i_unobs_comp], '--k')\n",
    "plot(t, x_s_V1[:,2], color='C2')\n",
    "plot(t[1:], a2*diff(x_s_V1[:,0])/dt + a3*diff(x_s_V1[:,1])/dt, 'k')\n",
    "legend(['$x_1$', '$z_1$', '$a_2 \\dot{x}_2 + a_3 \\dot{x}_3$'], loc=1, fontsize='xx-large')\n",
    "fill_between(t, x_s_V1[:,2]-1.96*sqrt(P_s_V1[:,2,2]), x_s_V1[:,2]+1.96*sqrt(P_s_V1[:,2,2]), facecolor='C2', alpha=0.25)\n",
    "xlabel('Time', size=20)\n",
    "ylabel('Lorenz components', size=20)\n",
    "xlim([t[0],t[2000]])\n",
    "savefig('/home/administrateur/Dropbox/Applications/Overleaf/presentation_buenos_aires_2023_02_10/L63_comp_x1_z1.png', bbox_inches='tight', dpi=400)"
   ]
  },
  {
   "cell_type": "markdown",
   "metadata": {},
   "source": [
    "### Comparison of the likelihoods"
   ]
  },
  {
   "cell_type": "code",
   "execution_count": null,
   "metadata": {},
   "outputs": [],
   "source": [
    "random.seed(0)\n",
    "\n",
    "z_V1 = random.normal(loc=x_t[:,i_unobs_comp]*0, scale=variance_unobs_comp, size=shape(y)[0])\n",
    "z_V2 = random.normal(loc=x_t[:,i_unobs_comp]*0, scale=variance_unobs_comp, size=shape(y)[0])\n",
    "z_V3 = random.normal(loc=x_t[:,i_unobs_comp]*0, scale=variance_unobs_comp, size=shape(y)[0])\n",
    "\n",
    "# state\n",
    "x = c_[y[:,0], y[:,1], z_V1]\n",
    "\n",
    "# shapes\n",
    "n = shape(x)[1]\n",
    "p = shape(y)[1]\n",
    "\n",
    "# kalman parameters\n",
    "H = delete(eye(n), 2, axis=0)\n",
    "R = variance_obs_comp*eye(p)\n",
    "\n",
    "# stochastic EM\n",
    "x_s_V1, P_s_V1, M_V1, loglik_V1, tej1, tej2, Q_V1 = Kalman_SEM(x, y, H, R, nb_iter_SEM)\n",
    "\n",
    "# state\n",
    "x = c_[x, z_V2]\n",
    "\n",
    "# shapes\n",
    "n = shape(x)[1]\n",
    "p = shape(y)[1]\n",
    "\n",
    "# kalman parameters\n",
    "H = delete(eye(n), [2,3], axis=0)\n",
    "R = variance_obs_comp*eye(p)\n",
    "\n",
    "# stochastic EM\n",
    "x_s_V2, P_s_V2, M_V2, loglik_V2, tej1, tej2, Q_V2 = Kalman_SEM(x, y, H, R, nb_iter_SEM)\n",
    "\n",
    "# state\n",
    "x = c_[x, z_V3]\n",
    "\n",
    "# shapes\n",
    "n = shape(x)[1]\n",
    "p = shape(y)[1]\n",
    "\n",
    "# kalman parameters\n",
    "H = delete(eye(n), [2,3,4], axis=0)\n",
    "R = variance_obs_comp*eye(p)\n",
    "\n",
    "# stochastic EM\n",
    "x_s_V3, P_s_V3, M_V3, loglik_V3, tej1, tej2, Q_V3 = Kalman_SEM(x, y, H, R, nb_iter_SEM)"
   ]
  },
  {
   "cell_type": "code",
   "execution_count": null,
   "metadata": {},
   "outputs": [],
   "source": [
    "# likelihood\n",
    "subplot(2,1,1)\n",
    "plot(loglik_V0[1:], '--k')\n",
    "plot(loglik_V1[1:], color='C2')\n",
    "plot(loglik_V2[1:], color='C3')\n",
    "plot(loglik_V3[1:], color='C4')\n",
    "xlabel('Iterations', size=20)\n",
    "ylabel('Log-likelihood', size=20)\n",
    "legend(['$\\mathbf{x} = [x_2, x_3]$', '$\\mathbf{x} = [x_2, x_3, z_1]$', '$\\mathbf{x} = [x_2, x_3, z_1, z_2]$', '$\\mathbf{x} = [x_2, x_3, z_1, z_2, z_3]$'],\n",
    "       loc=0, fontsize='xx-large')\n",
    "savefig('/home/administrateur/Dropbox/Applications/Overleaf/presentation_buenos_aires_2023_02_10/L63_comp_lik.png', bbox_inches='tight', dpi=400)"
   ]
  },
  {
   "cell_type": "markdown",
   "metadata": {},
   "source": [
    "### Metric as a function of the horizon"
   ]
  },
  {
   "cell_type": "code",
   "execution_count": null,
   "metadata": {},
   "outputs": [],
   "source": [
    "def RMSE(x_for, x_true):\n",
    "    return sqrt(mean((x_for-x_true)**2))\n",
    "def cov_prob(x_for, P_for, x_true):\n",
    "    sum = 0\n",
    "    for k in range(len(x_for)):\n",
    "        sum += (x_true[k] >= x_for[k] - 0.64 * sqrt(P_for[k])) and (x_true[k] <= x_for[k] + 0.64 * sqrt(P_for[k]))\n",
    "    return sum/len(x_for)    "
   ]
  },
  {
   "cell_type": "code",
   "execution_count": null,
   "metadata": {},
   "outputs": [],
   "source": [
    "# max horizon\n",
    "horizon = 500\n",
    "\n",
    "# initialization\n",
    "x_true   = zeros((len(x_t)-horizon, horizon, shape(x_t)[1]))\n",
    "x_for_V0 = zeros((len(x_t)-horizon, horizon, shape(x_s_V0)[1]))\n",
    "x_for_V1 = zeros((len(x_t)-horizon, horizon, shape(x_s_V1)[1]))\n",
    "x_for_V2 = zeros((len(x_t)-horizon, horizon, shape(x_s_V2)[1]))\n",
    "x_for_V3 = zeros((len(x_t)-horizon, horizon, shape(x_s_V3)[1]))\n",
    "P_for_V0 = zeros((len(x_t)-horizon, horizon, shape(Q_V0)[0], shape(Q_V0)[1]))\n",
    "P_for_V1 = zeros((len(x_t)-horizon, horizon, shape(Q_V1)[0], shape(Q_V1)[1]))\n",
    "P_for_V2 = zeros((len(x_t)-horizon, horizon, shape(Q_V2)[0], shape(Q_V2)[1]))\n",
    "P_for_V3 = zeros((len(x_t)-horizon, horizon, shape(Q_V3)[0], shape(Q_V3)[1]))\n",
    "\n",
    "# loop on time steps\n",
    "for k in range(len(x_t)-horizon):\n",
    "    x_true[k,0,:] = x_t[k,:]\n",
    "    x_for_V0[k,0,:] = x_s_V0[k,:]\n",
    "    x_for_V1[k,0,:] = x_s_V1[k,:]\n",
    "    x_for_V2[k,0,:] = x_s_V2[k,:]\n",
    "    x_for_V3[k,0,:] = x_s_V3[k,:]\n",
    "    P_for_V0[k,0,:,:] = P_s_V0[k,:,:]\n",
    "    P_for_V1[k,0,:,:] = P_s_V1[k,:,:]\n",
    "    P_for_V2[k,0,:,:] = P_s_V2[k,:,:]\n",
    "    P_for_V3[k,0,:,:] = P_s_V3[k,:,:]\n",
    "    # loop on horizons\n",
    "    for h in range(horizon-1):\n",
    "        x_true[k,h+1,:] = x_t[k+h+1,:]\n",
    "        x_for_V0[k,h+1,:] = M_V0 @ x_for_V0[k,h,:]\n",
    "        x_for_V1[k,h+1,:] = M_V1 @ x_for_V1[k,h,:]\n",
    "        x_for_V2[k,h+1,:] = M_V2 @ x_for_V2[k,h,:]\n",
    "        x_for_V3[k,h+1,:] = M_V3 @ x_for_V3[k,h,:]\n",
    "        P_for_V0[k,h+1,:,:] = M_V0 @ P_for_V0[k,h,:,:] @ M_V0.T + Q_V0\n",
    "        P_for_V1[k,h+1,:,:] = M_V1 @ P_for_V1[k,h,:,:] @ M_V1.T + Q_V1\n",
    "        P_for_V2[k,h+1,:,:] = M_V2 @ P_for_V2[k,h,:,:] @ M_V2.T + Q_V2\n",
    "        P_for_V3[k,h+1,:,:] = M_V3 @ P_for_V3[k,h,:,:] @ M_V3.T + Q_V3"
   ]
  },
  {
   "cell_type": "code",
   "execution_count": null,
   "metadata": {},
   "outputs": [],
   "source": [
    "# initialization\n",
    "tab_RMSE_V0_x2 = zeros((horizon))\n",
    "tab_RMSE_V1_x2 = zeros((horizon))\n",
    "tab_RMSE_V2_x2 = zeros((horizon))\n",
    "tab_RMSE_V3_x2 = zeros((horizon))\n",
    "tab_RMSE_V0_x3 = zeros((horizon))\n",
    "tab_RMSE_V1_x3 = zeros((horizon))\n",
    "tab_RMSE_V2_x3 = zeros((horizon))\n",
    "tab_RMSE_V3_x3 = zeros((horizon))\n",
    "\n",
    "# loop on horizons\n",
    "for h in range(horizon):\n",
    "    tab_RMSE_V0_x2[h] = RMSE(x_for_V0[:,h,0], x_true[:,h,1])\n",
    "    tab_RMSE_V1_x2[h] = RMSE(x_for_V1[:,h,0], x_true[:,h,1])\n",
    "    tab_RMSE_V2_x2[h] = RMSE(x_for_V2[:,h,0], x_true[:,h,1])\n",
    "    tab_RMSE_V3_x2[h] = RMSE(x_for_V3[:,h,0], x_true[:,h,1])\n",
    "    tab_RMSE_V0_x3[h] = RMSE(x_for_V0[:,h,1], x_true[:,h,2])\n",
    "    tab_RMSE_V1_x3[h] = RMSE(x_for_V1[:,h,1], x_true[:,h,2])\n",
    "    tab_RMSE_V2_x3[h] = RMSE(x_for_V2[:,h,1], x_true[:,h,2])\n",
    "    tab_RMSE_V3_x3[h] = RMSE(x_for_V3[:,h,1], x_true[:,h,2])"
   ]
  },
  {
   "cell_type": "code",
   "execution_count": null,
   "metadata": {},
   "outputs": [],
   "source": [
    "# initialization\n",
    "tab_cov_prob_V0_x2 = zeros((horizon))\n",
    "tab_cov_prob_V1_x2 = zeros((horizon))\n",
    "tab_cov_prob_V2_x2 = zeros((horizon))\n",
    "tab_cov_prob_V3_x2 = zeros((horizon))\n",
    "tab_cov_prob_V0_x3 = zeros((horizon))\n",
    "tab_cov_prob_V1_x3 = zeros((horizon))\n",
    "tab_cov_prob_V2_x3 = zeros((horizon))\n",
    "tab_cov_prob_V3_x3 = zeros((horizon))\n",
    "\n",
    "# loop on horizons\n",
    "for h in range(horizon):\n",
    "    tab_cov_prob_V0_x2[h] = cov_prob(x_for_V0[:,h,0], P_for_V0[:,h,0,0], x_true[:,h,1])\n",
    "    tab_cov_prob_V1_x2[h] = cov_prob(x_for_V1[:,h,0], P_for_V1[:,h,0,0], x_true[:,h,1])\n",
    "    tab_cov_prob_V2_x2[h] = cov_prob(x_for_V2[:,h,0], P_for_V2[:,h,0,0], x_true[:,h,1])\n",
    "    tab_cov_prob_V3_x2[h] = cov_prob(x_for_V3[:,h,0], P_for_V3[:,h,0,0], x_true[:,h,1])\n",
    "    tab_cov_prob_V0_x3[h] = cov_prob(x_for_V0[:,h,1], P_for_V0[:,h,1,1], x_true[:,h,2])\n",
    "    tab_cov_prob_V1_x3[h] = cov_prob(x_for_V1[:,h,1], P_for_V1[:,h,1,1], x_true[:,h,2])\n",
    "    tab_cov_prob_V2_x3[h] = cov_prob(x_for_V2[:,h,1], P_for_V2[:,h,1,1], x_true[:,h,2])\n",
    "    tab_cov_prob_V3_x3[h] = cov_prob(x_for_V3[:,h,1], P_for_V3[:,h,1,1], x_true[:,h,2])"
   ]
  },
  {
   "cell_type": "code",
   "execution_count": null,
   "metadata": {},
   "outputs": [],
   "source": [
    "# plot RMSE ~ horizon for x2\n",
    "subplot(2,2,1)\n",
    "plot(t[0:horizon], tab_RMSE_V0_x2, 'k--')\n",
    "plot(t[0:horizon], tab_RMSE_V1_x2, 'C2')\n",
    "plot(t[0:horizon], tab_RMSE_V2_x2, 'C3')\n",
    "#xlabel('Horizon', size=20)\n",
    "ylabel('RMSE', size=20)\n",
    "title('Component $x_2$', size=30)\n",
    "\n",
    "# plot RMSE ~ horizon for x3\n",
    "subplot(2,2,2)\n",
    "plot(t[0:horizon], tab_RMSE_V0_x3, 'k--')\n",
    "plot(t[0:horizon], tab_RMSE_V1_x3, 'C2')\n",
    "plot(t[0:horizon], tab_RMSE_V2_x3, 'C3')\n",
    "#xlabel('Horizon', size=20)\n",
    "ylabel('RMSE', size=20)\n",
    "legend(['$\\mathbf{x} = [x_2, x_3]$', '$\\mathbf{x} = [x_2, x_3, z_1]$', '$\\mathbf{x} = [x_2, x_3, z_1, z_2]$'],\n",
    "       loc=0, fontsize='xx-large')\n",
    "title('Component $x_3$', size=30)\n",
    "\n",
    "# plot cov_prob ~ horizon for x2\n",
    "subplot(2,2,3)\n",
    "plot(t[0:horizon], tab_cov_prob_V0_x2, 'k--')\n",
    "plot(t[0:horizon], tab_cov_prob_V1_x2, 'C2')\n",
    "plot(t[0:horizon], tab_cov_prob_V2_x2, 'C3')\n",
    "#plot([t[0], t[horizon]], [0.5, 0.5], 'k--')\n",
    "xlabel('Horizon', size=20)\n",
    "ylabel('Coverage probability', size=20)\n",
    "\n",
    "# plot cov_prob ~ horizon for x3\n",
    "subplot(2,2,4)\n",
    "plot(t[0:horizon], tab_cov_prob_V0_x3, 'k--')\n",
    "plot(t[0:horizon], tab_cov_prob_V1_x3, 'C2')\n",
    "plot(t[0:horizon], tab_cov_prob_V2_x3, 'C3')\n",
    "#plot([t[0], t[horizon]], [0.5, 0.5], 'k--')\n",
    "xlabel('Horizon', size=20)\n",
    "ylabel('Coverage probability', size=20)"
   ]
  },
  {
   "cell_type": "code",
   "execution_count": null,
   "metadata": {},
   "outputs": [],
   "source": [
    "plot(t[0:horizon], x_true[0,:,1], 'k--')\n",
    "plot(t[0:horizon], x_for_V1[0,:,0], 'C2')\n",
    "plot(t[0:horizon], x_for_V2[0,:,0], 'C3')\n",
    "fill_between(t[0:horizon], x_for_V1[0,:,0] - 0.64 * sqrt(P_for_V1[0,:,0,0]), x_for_V1[0,:,0] + 0.64 * sqrt(P_for_V1[0,:,0,0]), alpha=0.2, color='C2')\n",
    "fill_between(t[0:horizon], x_for_V2[0,:,0] - 0.64 * sqrt(P_for_V2[0,:,0,0]), x_for_V2[0,:,0] + 0.64 * sqrt(P_for_V2[0,:,0,0]), alpha=0.2, color='C3')"
   ]
  },
  {
   "cell_type": "code",
   "execution_count": null,
   "metadata": {},
   "outputs": [],
   "source": [
    "subplot(2,1,1)\n",
    "plot(t[0:horizon], x_true[0,:,:], '--')\n",
    "plot(t[0:horizon], x_for_V1[0,:,:])\n",
    "subplot(2,1,2)\n",
    "plot(t[0:horizon], x_true[0,:,:], '--')\n",
    "plot(t[0:horizon], x_for_V2[0,:,:])"
   ]
  },
  {
   "cell_type": "code",
   "execution_count": null,
   "metadata": {},
   "outputs": [],
   "source": []
  }
 ],
 "metadata": {
  "anaconda-cloud": {},
  "kernelspec": {
   "display_name": "Python 3",
   "language": "python",
   "name": "python3"
  },
  "language_info": {
   "codemirror_mode": {
    "name": "ipython",
    "version": 3
   },
   "file_extension": ".py",
   "mimetype": "text/x-python",
   "name": "python",
   "nbconvert_exporter": "python",
   "pygments_lexer": "ipython3",
   "version": "3.8.8"
  },
  "nbpresent": {
   "slides": {
    "1d42f838-0c49-4169-ace3-6cbe2ef3bcb8": {
     "id": "1d42f838-0c49-4169-ace3-6cbe2ef3bcb8",
     "prev": "a79bbd87-5da4-453d-b024-19a2123d05bd",
     "regions": {
      "1265fdae-ba33-4f63-bb1b-066a18e00ea9": {
       "attrs": {
        "height": 0.8,
        "width": 0.8,
        "x": 0.1,
        "y": 0.1
       },
       "content": {
        "cell": "d1760a5b-8d30-43df-87d2-fa83c3bd6553",
        "part": "whole"
       },
       "id": "1265fdae-ba33-4f63-bb1b-066a18e00ea9"
      }
     }
    },
    "2ced89bd-2571-4751-aebc-f597ccefbe76": {
     "id": "2ced89bd-2571-4751-aebc-f597ccefbe76",
     "prev": "add23d58-b14d-49d8-b2aa-577f38d2e1e2",
     "regions": {
      "17b915d1-242d-4df1-82e2-63084727c865": {
       "attrs": {
        "height": 0.8,
        "width": 0.8,
        "x": 0.1,
        "y": 0.1
       },
       "content": {
        "cell": "3c8d57d0-c7b5-4ec6-9ecb-d91aaffbf836",
        "part": "whole"
       },
       "id": "17b915d1-242d-4df1-82e2-63084727c865"
      }
     }
    },
    "336153f3-0ab5-44bc-a573-edaf69c0b238": {
     "id": "336153f3-0ab5-44bc-a573-edaf69c0b238",
     "prev": "42177add-a63c-4114-b63f-3ddf964ef110",
     "regions": {
      "ba96f47c-67a0-4f8e-8aa5-df9e5aaacc1f": {
       "attrs": {
        "height": 0.8,
        "width": 0.8,
        "x": 0.1,
        "y": 0.1
       },
       "content": {
        "cell": "837aa478-c139-42fb-9609-b0a98c79fae1",
        "part": "whole"
       },
       "id": "ba96f47c-67a0-4f8e-8aa5-df9e5aaacc1f"
      }
     }
    },
    "42177add-a63c-4114-b63f-3ddf964ef110": {
     "id": "42177add-a63c-4114-b63f-3ddf964ef110",
     "prev": "724df457-c17c-4540-b34c-7bef5cb716ca",
     "regions": {
      "54f1cdca-2aa4-4698-8246-2a1c5e145547": {
       "attrs": {
        "height": 0.8,
        "width": 0.8,
        "x": 0.1,
        "y": 0.1
       },
       "content": {
        "cell": "241f9ce2-fe11-4533-be8f-991a700f3920",
        "part": "whole"
       },
       "id": "54f1cdca-2aa4-4698-8246-2a1c5e145547"
      }
     }
    },
    "5828c160-102d-4b0b-a02e-a1347935177e": {
     "id": "5828c160-102d-4b0b-a02e-a1347935177e",
     "prev": "aa2c9167-4c71-4984-8932-50f07ece09ee",
     "regions": {
      "844a550a-1b12-4ed5-996d-bdc5c6673cfb": {
       "attrs": {
        "height": 0.8,
        "width": 0.8,
        "x": 0.1,
        "y": 0.1
       },
       "content": {
        "cell": "150c861c-fecc-4dfc-8bb7-c54189d675cb",
        "part": "whole"
       },
       "id": "844a550a-1b12-4ed5-996d-bdc5c6673cfb"
      }
     }
    },
    "67ee6b5b-5315-44b8-ae26-5f1cd7459cdf": {
     "id": "67ee6b5b-5315-44b8-ae26-5f1cd7459cdf",
     "prev": "78cfb209-fb42-41a3-9b67-2d8976535bfd",
     "regions": {
      "69ee6591-33f8-486f-abd2-80b224924624": {
       "attrs": {
        "height": 0.8,
        "width": 0.8,
        "x": 0.1,
        "y": 0.1
       },
       "content": {
        "cell": "f975dd20-65cf-43f8-8a6e-96f2acbad4e4",
        "part": "whole"
       },
       "id": "69ee6591-33f8-486f-abd2-80b224924624"
      }
     }
    },
    "724df457-c17c-4540-b34c-7bef5cb716ca": {
     "id": "724df457-c17c-4540-b34c-7bef5cb716ca",
     "prev": "9fe87c5b-707b-4b01-b745-e8ded89e9df3",
     "regions": {
      "240d4d84-1531-44fe-a100-4420357b11d5": {
       "attrs": {
        "height": 0.8,
        "width": 0.8,
        "x": 0.1,
        "y": 0.1
       },
       "content": {
        "cell": "81f56606-9081-47fd-8968-13d85c93063c",
        "part": "whole"
       },
       "id": "240d4d84-1531-44fe-a100-4420357b11d5"
      }
     }
    },
    "77584b6a-a79a-4c2a-9877-16ceb1f8abd0": {
     "id": "77584b6a-a79a-4c2a-9877-16ceb1f8abd0",
     "prev": "5828c160-102d-4b0b-a02e-a1347935177e",
     "regions": {
      "8c07716a-3ea3-46ee-9c54-ad6fc7312519": {
       "attrs": {
        "height": 0.8,
        "width": 0.8,
        "x": 0.1,
        "y": 0.1
       },
       "content": {
        "cell": "8150ad94-0ca4-4664-99f2-16b477d0a987",
        "part": "whole"
       },
       "id": "8c07716a-3ea3-46ee-9c54-ad6fc7312519"
      }
     }
    },
    "78cfb209-fb42-41a3-9b67-2d8976535bfd": {
     "id": "78cfb209-fb42-41a3-9b67-2d8976535bfd",
     "prev": "c903fa48-923d-4a62-9cb0-bb5947fd72fc",
     "regions": {
      "ccafd74d-69fc-4fee-a9d4-a08c42b93603": {
       "attrs": {
        "height": 0.8,
        "width": 0.8,
        "x": 0.1,
        "y": 0.1
       },
       "content": {
        "cell": "af657441-0912-4749-b537-6e1734f875bb",
        "part": "whole"
       },
       "id": "ccafd74d-69fc-4fee-a9d4-a08c42b93603"
      }
     }
    },
    "7adb904a-fb6f-4d67-94d8-4c711e07ac11": {
     "id": "7adb904a-fb6f-4d67-94d8-4c711e07ac11",
     "prev": "d17e8d89-9e35-46c9-b929-566d91fdb7f1",
     "regions": {
      "7ea089b6-47be-4579-9234-db684b9d36a5": {
       "attrs": {
        "height": 0.8,
        "width": 0.8,
        "x": 0.1,
        "y": 0.1
       },
       "content": {
        "cell": "c4e459e9-33bc-43f1-91e8-5a5d05746979",
        "part": "whole"
       },
       "id": "7ea089b6-47be-4579-9234-db684b9d36a5"
      }
     }
    },
    "9563799e-a48a-4472-be8d-4d8cd293d2ad": {
     "id": "9563799e-a48a-4472-be8d-4d8cd293d2ad",
     "prev": "f27ef294-a3b8-4e5c-9050-45addbe0b149",
     "regions": {
      "98b47946-ed94-4959-9d5f-02151a5ec080": {
       "attrs": {
        "height": 0.8,
        "width": 0.8,
        "x": 0.1,
        "y": 0.1
       },
       "content": {
        "cell": "7a6c203f-bcbb-4c52-8b85-7e6be3945044",
        "part": "whole"
       },
       "id": "98b47946-ed94-4959-9d5f-02151a5ec080"
      }
     }
    },
    "9fe87c5b-707b-4b01-b745-e8ded89e9df3": {
     "id": "9fe87c5b-707b-4b01-b745-e8ded89e9df3",
     "prev": "67ee6b5b-5315-44b8-ae26-5f1cd7459cdf",
     "regions": {
      "88a6792f-b8da-46f8-9d2f-4f7eb16621dd": {
       "attrs": {
        "height": 0.8,
        "width": 0.8,
        "x": 0.1,
        "y": 0.1
       },
       "content": {
        "cell": "702967c4-5161-4544-a9f1-88cd5d0155da",
        "part": "whole"
       },
       "id": "88a6792f-b8da-46f8-9d2f-4f7eb16621dd"
      }
     }
    },
    "a79bbd87-5da4-453d-b024-19a2123d05bd": {
     "id": "a79bbd87-5da4-453d-b024-19a2123d05bd",
     "prev": "7adb904a-fb6f-4d67-94d8-4c711e07ac11",
     "regions": {
      "4f5dad50-8402-438d-a99a-65f489665bcb": {
       "attrs": {
        "height": 0.8,
        "width": 0.8,
        "x": 0.1,
        "y": 0.1
       },
       "content": {
        "cell": "b00e2703-18c9-46e3-b935-dd07e82d80e5",
        "part": "whole"
       },
       "id": "4f5dad50-8402-438d-a99a-65f489665bcb"
      }
     }
    },
    "aa2c9167-4c71-4984-8932-50f07ece09ee": {
     "id": "aa2c9167-4c71-4984-8932-50f07ece09ee",
     "prev": "1d42f838-0c49-4169-ace3-6cbe2ef3bcb8",
     "regions": {
      "320b99ad-7a18-4224-a500-b94e65a48833": {
       "attrs": {
        "height": 0.8,
        "width": 0.8,
        "x": 0.1,
        "y": 0.1
       },
       "content": {
        "cell": "604a659e-82bf-4618-95bf-77ef755b9088",
        "part": "whole"
       },
       "id": "320b99ad-7a18-4224-a500-b94e65a48833"
      }
     }
    },
    "ad8135f7-ac79-4ac1-a610-10a935b49a98": {
     "id": "ad8135f7-ac79-4ac1-a610-10a935b49a98",
     "prev": "2ced89bd-2571-4751-aebc-f597ccefbe76",
     "regions": {
      "0e52e387-23f1-4ed3-9940-8c389e971206": {
       "attrs": {
        "height": 0.8,
        "width": 0.8,
        "x": 0.1,
        "y": 0.1
       },
       "content": {
        "cell": "8f5b99c6-6771-4a2f-8ff5-f6693d6b9916",
        "part": "whole"
       },
       "id": "0e52e387-23f1-4ed3-9940-8c389e971206"
      }
     }
    },
    "add23d58-b14d-49d8-b2aa-577f38d2e1e2": {
     "id": "add23d58-b14d-49d8-b2aa-577f38d2e1e2",
     "prev": "ee4674c1-f707-4364-8f98-920a3a4dccdd",
     "regions": {
      "4ff09800-dc8f-4d70-a6fa-122728d7b7ce": {
       "attrs": {
        "height": 0.8,
        "width": 0.8,
        "x": 0.1,
        "y": 0.1
       },
       "content": {
        "cell": "35f54171-6e87-4b0f-9cb2-821d9c0d8b96",
        "part": "whole"
       },
       "id": "4ff09800-dc8f-4d70-a6fa-122728d7b7ce"
      }
     }
    },
    "c903fa48-923d-4a62-9cb0-bb5947fd72fc": {
     "id": "c903fa48-923d-4a62-9cb0-bb5947fd72fc",
     "prev": null,
     "regions": {
      "9af22ce6-60f7-4b0f-b583-587632ca1c4d": {
       "attrs": {
        "height": 0.8,
        "width": 0.8,
        "x": 0.1,
        "y": 0.1
       },
       "content": {
        "cell": "76428090-b279-4d85-b5bc-e0fdefafc294",
        "part": "whole"
       },
       "id": "9af22ce6-60f7-4b0f-b583-587632ca1c4d"
      }
     }
    },
    "d17e8d89-9e35-46c9-b929-566d91fdb7f1": {
     "id": "d17e8d89-9e35-46c9-b929-566d91fdb7f1",
     "prev": "9563799e-a48a-4472-be8d-4d8cd293d2ad",
     "regions": {
      "8014a801-52b8-4b31-b0b3-57c09db3642a": {
       "attrs": {
        "height": 0.8,
        "width": 0.8,
        "x": 0.1,
        "y": 0.1
       },
       "content": {
        "cell": "971ff88b-e8dc-43dc-897e-71a7b6b659c0",
        "part": "whole"
       },
       "id": "8014a801-52b8-4b31-b0b3-57c09db3642a"
      }
     }
    },
    "ee4674c1-f707-4364-8f98-920a3a4dccdd": {
     "id": "ee4674c1-f707-4364-8f98-920a3a4dccdd",
     "prev": "77584b6a-a79a-4c2a-9877-16ceb1f8abd0",
     "regions": {
      "88808a64-d487-4a72-b74f-5b1db506cbec": {
       "attrs": {
        "height": 0.8,
        "width": 0.8,
        "x": 0.1,
        "y": 0.1
       },
       "content": {
        "cell": "02cf2959-e712-4af8-8bb6-f914608e15ac",
        "part": "whole"
       },
       "id": "88808a64-d487-4a72-b74f-5b1db506cbec"
      }
     }
    },
    "f27ef294-a3b8-4e5c-9050-45addbe0b149": {
     "id": "f27ef294-a3b8-4e5c-9050-45addbe0b149",
     "prev": "336153f3-0ab5-44bc-a573-edaf69c0b238",
     "regions": {
      "c15a426b-5006-40a7-b0ef-45a7aa142ea6": {
       "attrs": {
        "height": 0.8,
        "width": 0.8,
        "x": 0.1,
        "y": 0.1
       },
       "content": {
        "cell": "3ed39876-5608-4f08-ba3c-a08d1c1d2c84",
        "part": "whole"
       },
       "id": "c15a426b-5006-40a7-b0ef-45a7aa142ea6"
      }
     }
    }
   },
   "themes": {}
  }
 },
 "nbformat": 4,
 "nbformat_minor": 1
}
